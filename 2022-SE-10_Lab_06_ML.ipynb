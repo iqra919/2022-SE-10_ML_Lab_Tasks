{
 "cells": [
  {
   "cell_type": "code",
   "execution_count": 1,
   "id": "9647a400",
   "metadata": {},
   "outputs": [],
   "source": [
    "import pandas as pd\n",
    "import numpy as np\n",
    "import matplotlib.pyplot as plt\n",
    "import seaborn as sns\n",
    "import warnings\n",
    "warnings.filterwarnings('ignore')"
   ]
  },
  {
   "cell_type": "code",
   "execution_count": 2,
   "id": "153d3a41",
   "metadata": {},
   "outputs": [],
   "source": [
    "from sklearn.model_selection import train_test_split\n",
    "from sklearn.linear_model import LinearRegression\n",
    "from sklearn.preprocessing import MinMaxScaler \n",
    "from sklearn.preprocessing import StandardScaler\n",
    "from sklearn.preprocessing import LabelEncoder\n",
    "from sklearn.metrics import mean_squared_error"
   ]
  },
  {
   "cell_type": "code",
   "execution_count": 3,
   "id": "01c4123f",
   "metadata": {},
   "outputs": [],
   "source": [
    "df = pd.read_csv('C:\\\\Users\\\\PMLS\\\\1.Python\\\\taxi_trip_pricing.csv')\n"
   ]
  },
  {
   "cell_type": "code",
   "execution_count": 4,
   "id": "e5eaf674",
   "metadata": {},
   "outputs": [
    {
     "data": {
      "text/html": [
       "<div>\n",
       "<style scoped>\n",
       "    .dataframe tbody tr th:only-of-type {\n",
       "        vertical-align: middle;\n",
       "    }\n",
       "\n",
       "    .dataframe tbody tr th {\n",
       "        vertical-align: top;\n",
       "    }\n",
       "\n",
       "    .dataframe thead th {\n",
       "        text-align: right;\n",
       "    }\n",
       "</style>\n",
       "<table border=\"1\" class=\"dataframe\">\n",
       "  <thead>\n",
       "    <tr style=\"text-align: right;\">\n",
       "      <th></th>\n",
       "      <th>Trip_Distance_km</th>\n",
       "      <th>Time_of_Day</th>\n",
       "      <th>Day_of_Week</th>\n",
       "      <th>Passenger_Count</th>\n",
       "      <th>Traffic_Conditions</th>\n",
       "      <th>Weather</th>\n",
       "      <th>Base_Fare</th>\n",
       "      <th>Per_Km_Rate</th>\n",
       "      <th>Per_Minute_Rate</th>\n",
       "      <th>Trip_Duration_Minutes</th>\n",
       "      <th>Trip_Price</th>\n",
       "    </tr>\n",
       "  </thead>\n",
       "  <tbody>\n",
       "    <tr>\n",
       "      <th>0</th>\n",
       "      <td>19.35</td>\n",
       "      <td>Morning</td>\n",
       "      <td>Weekday</td>\n",
       "      <td>3.0</td>\n",
       "      <td>Low</td>\n",
       "      <td>Clear</td>\n",
       "      <td>3.56</td>\n",
       "      <td>0.80</td>\n",
       "      <td>0.32</td>\n",
       "      <td>53.82</td>\n",
       "      <td>36.2624</td>\n",
       "    </tr>\n",
       "    <tr>\n",
       "      <th>1</th>\n",
       "      <td>47.59</td>\n",
       "      <td>Afternoon</td>\n",
       "      <td>Weekday</td>\n",
       "      <td>1.0</td>\n",
       "      <td>High</td>\n",
       "      <td>Clear</td>\n",
       "      <td>NaN</td>\n",
       "      <td>0.62</td>\n",
       "      <td>0.43</td>\n",
       "      <td>40.57</td>\n",
       "      <td>NaN</td>\n",
       "    </tr>\n",
       "    <tr>\n",
       "      <th>2</th>\n",
       "      <td>36.87</td>\n",
       "      <td>Evening</td>\n",
       "      <td>Weekend</td>\n",
       "      <td>1.0</td>\n",
       "      <td>High</td>\n",
       "      <td>Clear</td>\n",
       "      <td>2.70</td>\n",
       "      <td>1.21</td>\n",
       "      <td>0.15</td>\n",
       "      <td>37.27</td>\n",
       "      <td>52.9032</td>\n",
       "    </tr>\n",
       "    <tr>\n",
       "      <th>3</th>\n",
       "      <td>30.33</td>\n",
       "      <td>Evening</td>\n",
       "      <td>Weekday</td>\n",
       "      <td>4.0</td>\n",
       "      <td>Low</td>\n",
       "      <td>NaN</td>\n",
       "      <td>3.48</td>\n",
       "      <td>0.51</td>\n",
       "      <td>0.15</td>\n",
       "      <td>116.81</td>\n",
       "      <td>36.4698</td>\n",
       "    </tr>\n",
       "    <tr>\n",
       "      <th>4</th>\n",
       "      <td>NaN</td>\n",
       "      <td>Evening</td>\n",
       "      <td>Weekday</td>\n",
       "      <td>3.0</td>\n",
       "      <td>High</td>\n",
       "      <td>Clear</td>\n",
       "      <td>2.93</td>\n",
       "      <td>0.63</td>\n",
       "      <td>0.32</td>\n",
       "      <td>22.64</td>\n",
       "      <td>15.6180</td>\n",
       "    </tr>\n",
       "  </tbody>\n",
       "</table>\n",
       "</div>"
      ],
      "text/plain": [
       "   Trip_Distance_km Time_of_Day Day_of_Week  Passenger_Count  \\\n",
       "0             19.35     Morning     Weekday              3.0   \n",
       "1             47.59   Afternoon     Weekday              1.0   \n",
       "2             36.87     Evening     Weekend              1.0   \n",
       "3             30.33     Evening     Weekday              4.0   \n",
       "4               NaN     Evening     Weekday              3.0   \n",
       "\n",
       "  Traffic_Conditions Weather  Base_Fare  Per_Km_Rate  Per_Minute_Rate  \\\n",
       "0                Low   Clear       3.56         0.80             0.32   \n",
       "1               High   Clear        NaN         0.62             0.43   \n",
       "2               High   Clear       2.70         1.21             0.15   \n",
       "3                Low     NaN       3.48         0.51             0.15   \n",
       "4               High   Clear       2.93         0.63             0.32   \n",
       "\n",
       "   Trip_Duration_Minutes  Trip_Price  \n",
       "0                  53.82     36.2624  \n",
       "1                  40.57         NaN  \n",
       "2                  37.27     52.9032  \n",
       "3                 116.81     36.4698  \n",
       "4                  22.64     15.6180  "
      ]
     },
     "execution_count": 4,
     "metadata": {},
     "output_type": "execute_result"
    }
   ],
   "source": [
    "df.head()"
   ]
  },
  {
   "cell_type": "code",
   "execution_count": 5,
   "id": "ccb51776",
   "metadata": {},
   "outputs": [
    {
     "data": {
      "text/html": [
       "<div>\n",
       "<style scoped>\n",
       "    .dataframe tbody tr th:only-of-type {\n",
       "        vertical-align: middle;\n",
       "    }\n",
       "\n",
       "    .dataframe tbody tr th {\n",
       "        vertical-align: top;\n",
       "    }\n",
       "\n",
       "    .dataframe thead th {\n",
       "        text-align: right;\n",
       "    }\n",
       "</style>\n",
       "<table border=\"1\" class=\"dataframe\">\n",
       "  <thead>\n",
       "    <tr style=\"text-align: right;\">\n",
       "      <th></th>\n",
       "      <th>Trip_Distance_km</th>\n",
       "      <th>Passenger_Count</th>\n",
       "      <th>Base_Fare</th>\n",
       "      <th>Per_Km_Rate</th>\n",
       "      <th>Per_Minute_Rate</th>\n",
       "      <th>Trip_Duration_Minutes</th>\n",
       "      <th>Trip_Price</th>\n",
       "    </tr>\n",
       "  </thead>\n",
       "  <tbody>\n",
       "    <tr>\n",
       "      <th>count</th>\n",
       "      <td>950.000000</td>\n",
       "      <td>950.000000</td>\n",
       "      <td>950.000000</td>\n",
       "      <td>950.000000</td>\n",
       "      <td>950.000000</td>\n",
       "      <td>950.000000</td>\n",
       "      <td>951.000000</td>\n",
       "    </tr>\n",
       "    <tr>\n",
       "      <th>mean</th>\n",
       "      <td>27.070547</td>\n",
       "      <td>2.476842</td>\n",
       "      <td>3.502989</td>\n",
       "      <td>1.233316</td>\n",
       "      <td>0.292916</td>\n",
       "      <td>62.118116</td>\n",
       "      <td>56.874773</td>\n",
       "    </tr>\n",
       "    <tr>\n",
       "      <th>std</th>\n",
       "      <td>19.905300</td>\n",
       "      <td>1.102249</td>\n",
       "      <td>0.870162</td>\n",
       "      <td>0.429816</td>\n",
       "      <td>0.115592</td>\n",
       "      <td>32.154406</td>\n",
       "      <td>40.469791</td>\n",
       "    </tr>\n",
       "    <tr>\n",
       "      <th>min</th>\n",
       "      <td>1.230000</td>\n",
       "      <td>1.000000</td>\n",
       "      <td>2.010000</td>\n",
       "      <td>0.500000</td>\n",
       "      <td>0.100000</td>\n",
       "      <td>5.010000</td>\n",
       "      <td>6.126900</td>\n",
       "    </tr>\n",
       "    <tr>\n",
       "      <th>25%</th>\n",
       "      <td>12.632500</td>\n",
       "      <td>1.250000</td>\n",
       "      <td>2.730000</td>\n",
       "      <td>0.860000</td>\n",
       "      <td>0.190000</td>\n",
       "      <td>35.882500</td>\n",
       "      <td>33.742650</td>\n",
       "    </tr>\n",
       "    <tr>\n",
       "      <th>50%</th>\n",
       "      <td>25.830000</td>\n",
       "      <td>2.000000</td>\n",
       "      <td>3.520000</td>\n",
       "      <td>1.220000</td>\n",
       "      <td>0.290000</td>\n",
       "      <td>61.860000</td>\n",
       "      <td>50.074500</td>\n",
       "    </tr>\n",
       "    <tr>\n",
       "      <th>75%</th>\n",
       "      <td>38.405000</td>\n",
       "      <td>3.000000</td>\n",
       "      <td>4.260000</td>\n",
       "      <td>1.610000</td>\n",
       "      <td>0.390000</td>\n",
       "      <td>89.055000</td>\n",
       "      <td>69.099350</td>\n",
       "    </tr>\n",
       "    <tr>\n",
       "      <th>max</th>\n",
       "      <td>146.067047</td>\n",
       "      <td>4.000000</td>\n",
       "      <td>5.000000</td>\n",
       "      <td>2.000000</td>\n",
       "      <td>0.500000</td>\n",
       "      <td>119.840000</td>\n",
       "      <td>332.043689</td>\n",
       "    </tr>\n",
       "  </tbody>\n",
       "</table>\n",
       "</div>"
      ],
      "text/plain": [
       "       Trip_Distance_km  Passenger_Count   Base_Fare  Per_Km_Rate  \\\n",
       "count        950.000000       950.000000  950.000000   950.000000   \n",
       "mean          27.070547         2.476842    3.502989     1.233316   \n",
       "std           19.905300         1.102249    0.870162     0.429816   \n",
       "min            1.230000         1.000000    2.010000     0.500000   \n",
       "25%           12.632500         1.250000    2.730000     0.860000   \n",
       "50%           25.830000         2.000000    3.520000     1.220000   \n",
       "75%           38.405000         3.000000    4.260000     1.610000   \n",
       "max          146.067047         4.000000    5.000000     2.000000   \n",
       "\n",
       "       Per_Minute_Rate  Trip_Duration_Minutes  Trip_Price  \n",
       "count       950.000000             950.000000  951.000000  \n",
       "mean          0.292916              62.118116   56.874773  \n",
       "std           0.115592              32.154406   40.469791  \n",
       "min           0.100000               5.010000    6.126900  \n",
       "25%           0.190000              35.882500   33.742650  \n",
       "50%           0.290000              61.860000   50.074500  \n",
       "75%           0.390000              89.055000   69.099350  \n",
       "max           0.500000             119.840000  332.043689  "
      ]
     },
     "execution_count": 5,
     "metadata": {},
     "output_type": "execute_result"
    }
   ],
   "source": [
    "df.describe()"
   ]
  },
  {
   "cell_type": "code",
   "execution_count": 6,
   "id": "d79fe9da",
   "metadata": {},
   "outputs": [
    {
     "data": {
      "text/plain": [
       "Index(['Trip_Distance_km', 'Time_of_Day', 'Day_of_Week', 'Passenger_Count',\n",
       "       'Traffic_Conditions', 'Weather', 'Base_Fare', 'Per_Km_Rate',\n",
       "       'Per_Minute_Rate', 'Trip_Duration_Minutes', 'Trip_Price'],\n",
       "      dtype='object')"
      ]
     },
     "execution_count": 6,
     "metadata": {},
     "output_type": "execute_result"
    }
   ],
   "source": [
    "df.columns"
   ]
  },
  {
   "cell_type": "code",
   "execution_count": 7,
   "id": "49c4e35b",
   "metadata": {},
   "outputs": [
    {
     "data": {
      "text/plain": [
       "(1000, 11)"
      ]
     },
     "execution_count": 7,
     "metadata": {},
     "output_type": "execute_result"
    }
   ],
   "source": [
    "df.shape"
   ]
  },
  {
   "cell_type": "code",
   "execution_count": 8,
   "id": "6afb3b32",
   "metadata": {},
   "outputs": [],
   "source": [
    "\n",
    "df['Trip_Distance_km'].fillna(df['Trip_Distance_km'].median(), inplace=True)"
   ]
  },
  {
   "cell_type": "code",
   "execution_count": 9,
   "id": "0a963df8",
   "metadata": {},
   "outputs": [],
   "source": [
    "df['Trip_Distance_km'] = df['Trip_Distance_km'].apply(lambda x: 25.83 if x > 74 else x)"
   ]
  },
  {
   "cell_type": "code",
   "execution_count": 10,
   "id": "31f1ed4d",
   "metadata": {},
   "outputs": [
    {
     "data": {
      "text/plain": [
       "950"
      ]
     },
     "execution_count": 10,
     "metadata": {},
     "output_type": "execute_result"
    }
   ],
   "source": [
    "df['Time_of_Day'].count()"
   ]
  },
  {
   "cell_type": "code",
   "execution_count": 11,
   "id": "3785090b",
   "metadata": {},
   "outputs": [
    {
     "data": {
      "text/plain": [
       "array(['Morning', 'Afternoon', 'Evening', 'Night', nan], dtype=object)"
      ]
     },
     "execution_count": 11,
     "metadata": {},
     "output_type": "execute_result"
    }
   ],
   "source": [
    "df['Time_of_Day'].unique()\n"
   ]
  },
  {
   "cell_type": "code",
   "execution_count": 12,
   "id": "5008ba2a",
   "metadata": {},
   "outputs": [
    {
     "data": {
      "text/plain": [
       "0    Afternoon\n",
       "Name: Time_of_Day, dtype: object"
      ]
     },
     "execution_count": 12,
     "metadata": {},
     "output_type": "execute_result"
    }
   ],
   "source": [
    "df['Time_of_Day'].mode()"
   ]
  },
  {
   "cell_type": "code",
   "execution_count": 13,
   "id": "bcb783d6",
   "metadata": {},
   "outputs": [],
   "source": [
    "df['Time_of_Day'].fillna('Afternoon', inplace=True)"
   ]
  },
  {
   "cell_type": "code",
   "execution_count": 14,
   "id": "3f947024",
   "metadata": {},
   "outputs": [
    {
     "data": {
      "text/plain": [
       "1000"
      ]
     },
     "execution_count": 14,
     "metadata": {},
     "output_type": "execute_result"
    }
   ],
   "source": [
    "df['Time_of_Day'].count()"
   ]
  },
  {
   "cell_type": "code",
   "execution_count": 15,
   "id": "d939538b",
   "metadata": {},
   "outputs": [],
   "source": [
    "label = LabelEncoder()"
   ]
  },
  {
   "cell_type": "code",
   "execution_count": 16,
   "id": "01d2d364",
   "metadata": {},
   "outputs": [],
   "source": [
    "df['Time_of_Day'] = label.fit_transform(df['Time_of_Day'])"
   ]
  },
  {
   "cell_type": "code",
   "execution_count": 17,
   "id": "16a98c34",
   "metadata": {},
   "outputs": [
    {
     "data": {
      "text/plain": [
       "array([2, 0, 1, 3])"
      ]
     },
     "execution_count": 17,
     "metadata": {},
     "output_type": "execute_result"
    }
   ],
   "source": [
    "df['Time_of_Day'].unique()\n"
   ]
  },
  {
   "cell_type": "code",
   "execution_count": 18,
   "id": "7e0ce25f",
   "metadata": {},
   "outputs": [
    {
     "data": {
      "text/plain": [
       "950"
      ]
     },
     "execution_count": 18,
     "metadata": {},
     "output_type": "execute_result"
    }
   ],
   "source": [
    "df['Day_of_Week'].count()"
   ]
  },
  {
   "cell_type": "code",
   "execution_count": 19,
   "id": "0458008d",
   "metadata": {},
   "outputs": [
    {
     "data": {
      "text/plain": [
       "array(['Weekday', 'Weekend', nan], dtype=object)"
      ]
     },
     "execution_count": 19,
     "metadata": {},
     "output_type": "execute_result"
    }
   ],
   "source": [
    "df['Day_of_Week'].unique()"
   ]
  },
  {
   "cell_type": "code",
   "execution_count": 20,
   "id": "41be0f3c",
   "metadata": {},
   "outputs": [
    {
     "data": {
      "text/plain": [
       "0    Weekday\n",
       "Name: Day_of_Week, dtype: object"
      ]
     },
     "execution_count": 20,
     "metadata": {},
     "output_type": "execute_result"
    }
   ],
   "source": [
    "df['Day_of_Week'].mode()"
   ]
  },
  {
   "cell_type": "code",
   "execution_count": 21,
   "id": "4138c5ac",
   "metadata": {},
   "outputs": [],
   "source": [
    "df['Day_of_Week'].fillna('Weekday', inplace=True)"
   ]
  },
  {
   "cell_type": "code",
   "execution_count": 22,
   "id": "bc386492",
   "metadata": {},
   "outputs": [
    {
     "data": {
      "text/plain": [
       "1000"
      ]
     },
     "execution_count": 22,
     "metadata": {},
     "output_type": "execute_result"
    }
   ],
   "source": [
    "df['Day_of_Week'].count()"
   ]
  },
  {
   "cell_type": "code",
   "execution_count": 23,
   "id": "326bee81",
   "metadata": {},
   "outputs": [],
   "source": [
    "df['Day_of_Week'] = label.fit_transform(df['Day_of_Week'])"
   ]
  },
  {
   "cell_type": "code",
   "execution_count": 24,
   "id": "5a5064de",
   "metadata": {},
   "outputs": [
    {
     "data": {
      "text/plain": [
       "array([0, 1])"
      ]
     },
     "execution_count": 24,
     "metadata": {},
     "output_type": "execute_result"
    }
   ],
   "source": [
    "df['Day_of_Week'].unique()"
   ]
  },
  {
   "cell_type": "code",
   "execution_count": 25,
   "id": "f345751c",
   "metadata": {},
   "outputs": [
    {
     "data": {
      "text/plain": [
       "2.4768421052631577"
      ]
     },
     "execution_count": 25,
     "metadata": {},
     "output_type": "execute_result"
    }
   ],
   "source": [
    "df['Passenger_Count'].mean()"
   ]
  },
  {
   "cell_type": "code",
   "execution_count": 26,
   "id": "ceab4580",
   "metadata": {},
   "outputs": [
    {
     "data": {
      "text/plain": [
       "2.0"
      ]
     },
     "execution_count": 26,
     "metadata": {},
     "output_type": "execute_result"
    }
   ],
   "source": [
    "df['Passenger_Count'].median()"
   ]
  },
  {
   "cell_type": "code",
   "execution_count": 27,
   "id": "3c32640c",
   "metadata": {},
   "outputs": [
    {
     "data": {
      "text/plain": [
       "0    3.0\n",
       "Name: Passenger_Count, dtype: float64"
      ]
     },
     "execution_count": 27,
     "metadata": {},
     "output_type": "execute_result"
    }
   ],
   "source": [
    "df['Passenger_Count'].mode()"
   ]
  },
  {
   "cell_type": "code",
   "execution_count": 28,
   "id": "2411bae8",
   "metadata": {},
   "outputs": [
    {
     "data": {
      "text/plain": [
       "1.75"
      ]
     },
     "execution_count": 28,
     "metadata": {},
     "output_type": "execute_result"
    }
   ],
   "source": [
    "Q1 = df['Passenger_Count'].quantile(0.25)  \n",
    "Q3 = df['Passenger_Count'].quantile(0.75)  \n",
    "IQR = Q3 - Q1  \n",
    "IQR"
   ]
  },
  {
   "cell_type": "code",
   "execution_count": 29,
   "id": "8682fd1f",
   "metadata": {},
   "outputs": [],
   "source": [
    "df['Passenger_Count'].fillna(df['Passenger_Count'].mean(), inplace=True)"
   ]
  },
  {
   "cell_type": "code",
   "execution_count": 30,
   "id": "52d3ace9",
   "metadata": {},
   "outputs": [
    {
     "data": {
      "text/plain": [
       "1000"
      ]
     },
     "execution_count": 30,
     "metadata": {},
     "output_type": "execute_result"
    }
   ],
   "source": [
    "df['Passenger_Count'].count()"
   ]
  },
  {
   "cell_type": "code",
   "execution_count": 31,
   "id": "db14173d",
   "metadata": {},
   "outputs": [
    {
     "data": {
      "image/png": "[encoded data removed]",
      "text/plain": [
       "<Figure size 640x480 with 1 Axes>"
      ]
     },
     "metadata": {},
     "output_type": "display_data"
    }
   ],
   "source": [
    "sns.boxplot(data=df['Passenger_Count'], color='lightblue')\n",
    "plt.title('Boxplot')\n",
    "plt.show()"
   ]
  },
  {
   "cell_type": "code",
   "execution_count": 32,
   "id": "3fdfc10d",
   "metadata": {},
   "outputs": [
    {
     "data": {
      "text/plain": [
       "950"
      ]
     },
     "execution_count": 32,
     "metadata": {},
     "output_type": "execute_result"
    }
   ],
   "source": [
    "df['Traffic_Conditions'].count()"
   ]
  },
  {
   "cell_type": "code",
   "execution_count": 33,
   "id": "e221f31a",
   "metadata": {},
   "outputs": [
    {
     "data": {
      "text/plain": [
       "array(['Low', 'High', 'Medium', nan], dtype=object)"
      ]
     },
     "execution_count": 33,
     "metadata": {},
     "output_type": "execute_result"
    }
   ],
   "source": [
    "df['Traffic_Conditions'].unique()"
   ]
  },
  {
   "cell_type": "code",
   "execution_count": 34,
   "id": "d1d382b7",
   "metadata": {},
   "outputs": [
    {
     "data": {
      "text/plain": [
       "0    Low\n",
       "Name: Traffic_Conditions, dtype: object"
      ]
     },
     "execution_count": 34,
     "metadata": {},
     "output_type": "execute_result"
    }
   ],
   "source": [
    "df['Traffic_Conditions'].mode()"
   ]
  },
  {
   "cell_type": "code",
   "execution_count": 35,
   "id": "78efc164",
   "metadata": {},
   "outputs": [],
   "source": [
    "df['Traffic_Conditions'].fillna('Low', inplace=True)"
   ]
  },
  {
   "cell_type": "code",
   "execution_count": 36,
   "id": "087939f6",
   "metadata": {},
   "outputs": [
    {
     "data": {
      "text/plain": [
       "1000"
      ]
     },
     "execution_count": 36,
     "metadata": {},
     "output_type": "execute_result"
    }
   ],
   "source": [
    "df['Traffic_Conditions'].count()"
   ]
  },
  {
   "cell_type": "code",
   "execution_count": 37,
   "id": "9b65e5de",
   "metadata": {},
   "outputs": [],
   "source": [
    "df['Traffic_Conditions'] = label.fit_transform(df['Traffic_Conditions'])"
   ]
  },
  {
   "cell_type": "code",
   "execution_count": 38,
   "id": "0650025c",
   "metadata": {},
   "outputs": [
    {
     "data": {
      "text/plain": [
       "array([1, 0, 2])"
      ]
     },
     "execution_count": 38,
     "metadata": {},
     "output_type": "execute_result"
    }
   ],
   "source": [
    "df['Traffic_Conditions'].unique()"
   ]
  },
  {
   "cell_type": "code",
   "execution_count": 39,
   "id": "714cb33b",
   "metadata": {},
   "outputs": [
    {
     "data": {
      "text/plain": [
       "950"
      ]
     },
     "execution_count": 39,
     "metadata": {},
     "output_type": "execute_result"
    }
   ],
   "source": [
    "df['Weather'].count()"
   ]
  },
  {
   "cell_type": "code",
   "execution_count": 40,
   "id": "56b9dda8",
   "metadata": {},
   "outputs": [
    {
     "data": {
      "text/plain": [
       "array(['Clear', nan, 'Rain', 'Snow'], dtype=object)"
      ]
     },
     "execution_count": 40,
     "metadata": {},
     "output_type": "execute_result"
    }
   ],
   "source": [
    "df['Weather'].unique()"
   ]
  },
  {
   "cell_type": "code",
   "execution_count": 41,
   "id": "c983e55e",
   "metadata": {},
   "outputs": [
    {
     "data": {
      "text/plain": [
       "0    Clear\n",
       "Name: Weather, dtype: object"
      ]
     },
     "execution_count": 41,
     "metadata": {},
     "output_type": "execute_result"
    }
   ],
   "source": [
    "df['Weather'].mode()"
   ]
  },
  {
   "cell_type": "code",
   "execution_count": 42,
   "id": "36231627",
   "metadata": {},
   "outputs": [],
   "source": [
    "df['Weather'].fillna('Clear', inplace=True)"
   ]
  },
  {
   "cell_type": "code",
   "execution_count": 43,
   "id": "9f036fa4",
   "metadata": {},
   "outputs": [
    {
     "data": {
      "text/plain": [
       "1000"
      ]
     },
     "execution_count": 43,
     "metadata": {},
     "output_type": "execute_result"
    }
   ],
   "source": [
    "df['Weather'].count()"
   ]
  },
  {
   "cell_type": "code",
   "execution_count": 44,
   "id": "1f53e841",
   "metadata": {},
   "outputs": [],
   "source": [
    "df['Weather'] = label.fit_transform(df['Weather'])"
   ]
  },
  {
   "cell_type": "code",
   "execution_count": 45,
   "id": "08326b83",
   "metadata": {},
   "outputs": [
    {
     "data": {
      "text/plain": [
       "array([0, 1, 2])"
      ]
     },
     "execution_count": 45,
     "metadata": {},
     "output_type": "execute_result"
    }
   ],
   "source": [
    "df['Weather'].unique()"
   ]
  },
  {
   "cell_type": "code",
   "execution_count": 46,
   "id": "c5ed5adb",
   "metadata": {},
   "outputs": [
    {
     "data": {
      "text/plain": [
       "950"
      ]
     },
     "execution_count": 46,
     "metadata": {},
     "output_type": "execute_result"
    }
   ],
   "source": [
    "df['Base_Fare'].count()"
   ]
  },
  {
   "cell_type": "code",
   "execution_count": 47,
   "id": "a254894e",
   "metadata": {},
   "outputs": [
    {
     "data": {
      "text/plain": [
       "3.502989473684212"
      ]
     },
     "execution_count": 47,
     "metadata": {},
     "output_type": "execute_result"
    }
   ],
   "source": [
    "df['Base_Fare'].mean()"
   ]
  },
  {
   "cell_type": "code",
   "execution_count": 48,
   "id": "8b7c011a",
   "metadata": {},
   "outputs": [
    {
     "data": {
      "text/plain": [
       "3.52"
      ]
     },
     "execution_count": 48,
     "metadata": {},
     "output_type": "execute_result"
    }
   ],
   "source": [
    "df['Base_Fare'].median()"
   ]
  },
  {
   "cell_type": "code",
   "execution_count": 49,
   "id": "458e6361",
   "metadata": {},
   "outputs": [
    {
     "data": {
      "text/plain": [
       "0    3.94\n",
       "Name: Base_Fare, dtype: float64"
      ]
     },
     "execution_count": 49,
     "metadata": {},
     "output_type": "execute_result"
    }
   ],
   "source": [
    "df['Base_Fare'].mode()"
   ]
  },
  {
   "cell_type": "code",
   "execution_count": 50,
   "id": "b1e90993",
   "metadata": {},
   "outputs": [
    {
     "data": {
      "text/plain": [
       "1.5299999999999998"
      ]
     },
     "execution_count": 50,
     "metadata": {},
     "output_type": "execute_result"
    }
   ],
   "source": [
    "Q1 = df['Base_Fare'].quantile(0.25)  \n",
    "Q3 = df['Base_Fare'].quantile(0.75)  \n",
    "IQR = Q3 - Q1  \n",
    "IQR\n"
   ]
  },
  {
   "cell_type": "code",
   "execution_count": 51,
   "id": "1d2e56e0",
   "metadata": {},
   "outputs": [],
   "source": [
    "df['Base_Fare'].fillna(df['Base_Fare'].mean(), inplace=True)"
   ]
  },
  {
   "cell_type": "code",
   "execution_count": 52,
   "id": "721c2498",
   "metadata": {},
   "outputs": [
    {
     "data": {
      "text/plain": [
       "1000"
      ]
     },
     "execution_count": 52,
     "metadata": {},
     "output_type": "execute_result"
    }
   ],
   "source": [
    "df['Base_Fare'].count()"
   ]
  },
  {
   "cell_type": "code",
   "execution_count": 53,
   "id": "715d76cf",
   "metadata": {},
   "outputs": [
    {
     "data": {
      "image/png": "[encoded data removed]",
      "text/plain": [
       "<Figure size 640x480 with 1 Axes>"
      ]
     },
     "metadata": {},
     "output_type": "display_data"
    }
   ],
   "source": [
    "sns.boxplot(data=df['Base_Fare'], color='lightblue')\n",
    "plt.title('Boxplot')\n",
    "plt.show()\n"
   ]
  },
  {
   "cell_type": "code",
   "execution_count": 54,
   "id": "91cc3ec9",
   "metadata": {},
   "outputs": [
    {
     "data": {
      "text/plain": [
       "950"
      ]
     },
     "execution_count": 54,
     "metadata": {},
     "output_type": "execute_result"
    }
   ],
   "source": [
    "\n",
    "df['Per_Km_Rate'].count()"
   ]
  },
  {
   "cell_type": "code",
   "execution_count": 55,
   "id": "a8991dbd",
   "metadata": {},
   "outputs": [
    {
     "data": {
      "text/plain": [
       "1.233315789473683"
      ]
     },
     "execution_count": 55,
     "metadata": {},
     "output_type": "execute_result"
    }
   ],
   "source": [
    "df['Per_Km_Rate'].mean()"
   ]
  },
  {
   "cell_type": "code",
   "execution_count": 56,
   "id": "423ca233",
   "metadata": {},
   "outputs": [
    {
     "data": {
      "text/plain": [
       "1.22"
      ]
     },
     "execution_count": 56,
     "metadata": {},
     "output_type": "execute_result"
    }
   ],
   "source": [
    "df['Per_Km_Rate'].median()"
   ]
  },
  {
   "cell_type": "code",
   "execution_count": 57,
   "id": "e0efa57a",
   "metadata": {},
   "outputs": [
    {
     "data": {
      "text/plain": [
       "0    0.63\n",
       "Name: Per_Km_Rate, dtype: float64"
      ]
     },
     "execution_count": 57,
     "metadata": {},
     "output_type": "execute_result"
    }
   ],
   "source": [
    "df['Per_Km_Rate'].mode()"
   ]
  },
  {
   "cell_type": "code",
   "execution_count": 58,
   "id": "4b506515",
   "metadata": {},
   "outputs": [
    {
     "data": {
      "text/plain": [
       "0.7500000000000001"
      ]
     },
     "execution_count": 58,
     "metadata": {},
     "output_type": "execute_result"
    }
   ],
   "source": [
    "Q1 = df['Per_Km_Rate'].quantile(0.25) \n",
    "Q3 = df['Per_Km_Rate'].quantile(0.75)  \n",
    "IQR = Q3 - Q1  \n",
    "IQR"
   ]
  },
  {
   "cell_type": "code",
   "execution_count": 59,
   "id": "ce39c359",
   "metadata": {},
   "outputs": [],
   "source": [
    "df['Per_Km_Rate'].fillna(df['Per_Km_Rate'].mean(), inplace=True)"
   ]
  },
  {
   "cell_type": "code",
   "execution_count": 60,
   "id": "22c40e03",
   "metadata": {},
   "outputs": [
    {
     "data": {
      "text/plain": [
       "1000"
      ]
     },
     "execution_count": 60,
     "metadata": {},
     "output_type": "execute_result"
    }
   ],
   "source": [
    "df['Per_Km_Rate'].count()"
   ]
  },
  {
   "cell_type": "code",
   "execution_count": 61,
   "id": "8358ae1e",
   "metadata": {},
   "outputs": [
    {
     "data": {
      "image/png": "[encoded data removed]",
      "text/plain": [
       "<Figure size 640x480 with 1 Axes>"
      ]
     },
     "metadata": {},
     "output_type": "display_data"
    }
   ],
   "source": [
    "sns.boxplot(data=df['Per_Km_Rate'], color='lightblue')\n",
    "plt.title('Boxplot')\n",
    "plt.show()"
   ]
  },
  {
   "cell_type": "code",
   "execution_count": 62,
   "id": "0b1f947d",
   "metadata": {},
   "outputs": [
    {
     "data": {
      "text/plain": [
       "950"
      ]
     },
     "execution_count": 62,
     "metadata": {},
     "output_type": "execute_result"
    }
   ],
   "source": [
    "df['Per_Minute_Rate'].count()"
   ]
  },
  {
   "cell_type": "code",
   "execution_count": 63,
   "id": "14221a64",
   "metadata": {},
   "outputs": [
    {
     "data": {
      "text/plain": [
       "0.2929157894736842"
      ]
     },
     "execution_count": 63,
     "metadata": {},
     "output_type": "execute_result"
    }
   ],
   "source": [
    "\n",
    "df['Per_Minute_Rate'].mean()"
   ]
  },
  {
   "cell_type": "code",
   "execution_count": 64,
   "id": "96b15c21",
   "metadata": {},
   "outputs": [
    {
     "data": {
      "text/plain": [
       "0.29"
      ]
     },
     "execution_count": 64,
     "metadata": {},
     "output_type": "execute_result"
    }
   ],
   "source": [
    "df['Per_Minute_Rate'].median()"
   ]
  },
  {
   "cell_type": "code",
   "execution_count": 65,
   "id": "0fb61ab0",
   "metadata": {},
   "outputs": [
    {
     "data": {
      "text/plain": [
       "0    0.15\n",
       "Name: Per_Minute_Rate, dtype: float64"
      ]
     },
     "execution_count": 65,
     "metadata": {},
     "output_type": "execute_result"
    }
   ],
   "source": [
    "df['Per_Minute_Rate'].mode()"
   ]
  },
  {
   "cell_type": "code",
   "execution_count": 66,
   "id": "cbbbbee5",
   "metadata": {},
   "outputs": [
    {
     "data": {
      "text/plain": [
       "0.2"
      ]
     },
     "execution_count": 66,
     "metadata": {},
     "output_type": "execute_result"
    }
   ],
   "source": [
    "Q1 = df['Per_Minute_Rate'].quantile(0.25)  \n",
    "Q3 = df['Per_Minute_Rate'].quantile(0.75) \n",
    "IQR = Q3 - Q1 \n",
    "IQR"
   ]
  },
  {
   "cell_type": "code",
   "execution_count": 67,
   "id": "e84c6de8",
   "metadata": {},
   "outputs": [],
   "source": [
    "df['Per_Minute_Rate'].fillna(df['Per_Minute_Rate'].mean(), inplace=True)"
   ]
  },
  {
   "cell_type": "code",
   "execution_count": 68,
   "id": "18bd16d3",
   "metadata": {},
   "outputs": [
    {
     "data": {
      "text/plain": [
       "1000"
      ]
     },
     "execution_count": 68,
     "metadata": {},
     "output_type": "execute_result"
    }
   ],
   "source": [
    "df['Per_Minute_Rate'].count()"
   ]
  },
  {
   "cell_type": "code",
   "execution_count": 69,
   "id": "01731b83",
   "metadata": {},
   "outputs": [
    {
     "data": {
      "image/png": "[encoded data removed]",
      "text/plain": [
       "<Figure size 640x480 with 1 Axes>"
      ]
     },
     "metadata": {},
     "output_type": "display_data"
    }
   ],
   "source": [
    "sns.boxplot(data=df['Per_Minute_Rate'], color='lightblue')\n",
    "plt.title('Boxplot')\n",
    "plt.show()\n"
   ]
  },
  {
   "cell_type": "code",
   "execution_count": 70,
   "id": "b474b2ab",
   "metadata": {},
   "outputs": [
    {
     "data": {
      "text/plain": [
       "950"
      ]
     },
     "execution_count": 70,
     "metadata": {},
     "output_type": "execute_result"
    }
   ],
   "source": [
    "df['Trip_Duration_Minutes'].count()"
   ]
  },
  {
   "cell_type": "code",
   "execution_count": 71,
   "id": "9b22ddab",
   "metadata": {},
   "outputs": [
    {
     "data": {
      "text/plain": [
       "62.11811578947371"
      ]
     },
     "execution_count": 71,
     "metadata": {},
     "output_type": "execute_result"
    }
   ],
   "source": [
    "\n",
    "df['Trip_Duration_Minutes'].mean()\n"
   ]
  },
  {
   "cell_type": "code",
   "execution_count": 72,
   "id": "66303256",
   "metadata": {},
   "outputs": [
    {
     "data": {
      "text/plain": [
       "61.86"
      ]
     },
     "execution_count": 72,
     "metadata": {},
     "output_type": "execute_result"
    }
   ],
   "source": [
    "df['Trip_Duration_Minutes'].median()"
   ]
  },
  {
   "cell_type": "code",
   "execution_count": 73,
   "id": "0b965ed7",
   "metadata": {},
   "outputs": [
    {
     "data": {
      "text/plain": [
       "0    89.21\n",
       "Name: Trip_Duration_Minutes, dtype: float64"
      ]
     },
     "execution_count": 73,
     "metadata": {},
     "output_type": "execute_result"
    }
   ],
   "source": [
    "df['Trip_Duration_Minutes'].mode()"
   ]
  },
  {
   "cell_type": "code",
   "execution_count": 74,
   "id": "ceed0470",
   "metadata": {},
   "outputs": [
    {
     "data": {
      "text/plain": [
       "53.17250000000001"
      ]
     },
     "execution_count": 74,
     "metadata": {},
     "output_type": "execute_result"
    }
   ],
   "source": [
    "Q1 = df['Trip_Duration_Minutes'].quantile(0.25)  \n",
    "Q3 = df['Trip_Duration_Minutes'].quantile(0.75) \n",
    "IQR = Q3 - Q1 \n",
    "IQR"
   ]
  },
  {
   "cell_type": "code",
   "execution_count": 75,
   "id": "42f0ddf8",
   "metadata": {},
   "outputs": [],
   "source": [
    "df['Trip_Duration_Minutes'].fillna(df['Trip_Duration_Minutes'].mean(), inplace=True)"
   ]
  },
  {
   "cell_type": "code",
   "execution_count": 76,
   "id": "52beb2d6",
   "metadata": {},
   "outputs": [
    {
     "data": {
      "text/plain": [
       "1000"
      ]
     },
     "execution_count": 76,
     "metadata": {},
     "output_type": "execute_result"
    }
   ],
   "source": [
    "df['Trip_Duration_Minutes'].count()"
   ]
  },
  {
   "cell_type": "code",
   "execution_count": 77,
   "id": "c5b5c4f2",
   "metadata": {},
   "outputs": [
    {
     "data": {
      "image/png": "[encoded data removed]",
      "text/plain": [
       "<Figure size 640x480 with 1 Axes>"
      ]
     },
     "metadata": {},
     "output_type": "display_data"
    }
   ],
   "source": [
    "sns.boxplot(data=df['Trip_Duration_Minutes'], color='lightblue')\n",
    "plt.title('Boxplot')\n",
    "plt.show()\n"
   ]
  },
  {
   "cell_type": "code",
   "execution_count": 78,
   "id": "13a82e6e",
   "metadata": {},
   "outputs": [],
   "source": [
    "df['Trip_Price'].fillna(df['Trip_Price'].median(), inplace=True)"
   ]
  },
  {
   "cell_type": "code",
   "execution_count": 79,
   "id": "030eecc1",
   "metadata": {},
   "outputs": [],
   "source": [
    "df['Trip_Price'] = df['Trip_Price'].apply(lambda x: 50 if x > 117 else x)"
   ]
  },
  {
   "cell_type": "code",
   "execution_count": 80,
   "id": "18f076ae",
   "metadata": {},
   "outputs": [],
   "source": [
    "X = df.drop(columns=['Trip_Price'])\n",
    "y = df[['Trip_Price']]"
   ]
  },
  {
   "cell_type": "code",
   "execution_count": 81,
   "id": "bf7ed339",
   "metadata": {},
   "outputs": [],
   "source": [
    "scaler = MinMaxScaler()         \n",
    "X = scaler.fit_transform(X)\n",
    "y = scaler.fit_transform(y)"
   ]
  },
  {
   "cell_type": "code",
   "execution_count": 82,
   "id": "bfd4f227",
   "metadata": {},
   "outputs": [],
   "source": [
    "X_train,X_test,y_train,y_test = train_test_split(X,y,test_size=0.2,random_state=0)"
   ]
  },
  {
   "cell_type": "code",
   "execution_count": 83,
   "id": "f64c408d",
   "metadata": {},
   "outputs": [],
   "source": [
    "model = LinearRegression()"
   ]
  },
  {
   "cell_type": "code",
   "execution_count": 84,
   "id": "aa420ad9",
   "metadata": {},
   "outputs": [
    {
     "data": {
      "text/plain": [
       "LinearRegression()"
      ]
     },
     "execution_count": 84,
     "metadata": {},
     "output_type": "execute_result"
    }
   ],
   "source": [
    "model.fit(X_train,y_train)"
   ]
  },
  {
   "cell_type": "code",
   "execution_count": 85,
   "id": "82ce4f69",
   "metadata": {},
   "outputs": [],
   "source": [
    "y_pred = model.predict(X_test)"
   ]
  },
  {
   "cell_type": "code",
   "execution_count": 86,
   "id": "be74f887",
   "metadata": {},
   "outputs": [],
   "source": [
    "mse = mean_squared_error(y_test,y_pred)"
   ]
  },
  {
   "cell_type": "code",
   "execution_count": 87,
   "id": "fefd1ad9",
   "metadata": {},
   "outputs": [
    {
     "data": {
      "text/plain": [
       "0.01196631594730902"
      ]
     },
     "execution_count": 87,
     "metadata": {},
     "output_type": "execute_result"
    }
   ],
   "source": [
    "mse"
   ]
  },
  {
   "cell_type": "code",
   "execution_count": 88,
   "id": "f40f5266",
   "metadata": {},
   "outputs": [
    {
     "data": {
      "text/plain": [
       "0.10939065749555132"
      ]
     },
     "execution_count": 88,
     "metadata": {},
     "output_type": "execute_result"
    }
   ],
   "source": [
    "np.sqrt(mse)"
   ]
  },
  {
   "cell_type": "code",
   "execution_count": 89,
   "id": "dfdfcd6e",
   "metadata": {},
   "outputs": [
    {
     "data": {
      "image/png": "[encoded data removed]",
      "text/plain": [
       "<Figure size 1000x600 with 1 Axes>"
      ]
     },
     "metadata": {},
     "output_type": "display_data"
    }
   ],
   "source": [
    "plt.figure(figsize=(10, 6))\n",
    "plt.scatter(y_test, y_pred, color='blue', alpha=0.7, label='Predicted vs Actual')\n",
    "\n",
    "plt.plot([y_test.min(), y_test.max()], [y_test.min(), y_test.max()], color='red', linestyle='--', label='Perfect Fit')\n",
    "\n",
    "plt.xlabel('Actual Prices')\n",
    "plt.ylabel('Predicted Prices')\n",
    "plt.title('Actual vs Predicted Prices')\n",
    "plt.legend()\n",
    "plt.grid(True)\n",
    "plt.show()"
   ]
  },
  {
   "cell_type": "code",
   "execution_count": null,
   "id": "ac9c6631",
   "metadata": {},
   "outputs": [],
   "source": []
  }
 ],
 "metadata": {
  "kernelspec": {
   "display_name": "Python 3 (ipykernel)",
   "language": "python",
   "name": "python3"
  },
  "language_info": {
   "codemirror_mode": {
    "name": "ipython",
    "version": 3
   },
   "file_extension": ".py",
   "mimetype": "text/x-python",
   "name": "python",
   "nbconvert_exporter": "python",
   "pygments_lexer": "ipython3",
   "version": "3.9.13"
  }
 },
 "nbformat": 4,
 "nbformat_minor": 5
}
