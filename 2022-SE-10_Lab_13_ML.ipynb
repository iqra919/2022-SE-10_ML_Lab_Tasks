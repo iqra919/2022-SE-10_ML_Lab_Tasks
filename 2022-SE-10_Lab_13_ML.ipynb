{
 "cells": [
  {
   "cell_type": "code",
   "execution_count": 1,
   "id": "cf4de5c7",
   "metadata": {},
   "outputs": [],
   "source": [
    "import numpy as np"
   ]
  },
  {
   "cell_type": "code",
   "execution_count": 2,
   "id": "1441d79e",
   "metadata": {},
   "outputs": [],
   "source": [
    "def step_function(x):\n",
    "    return 1 if x >= 0 else 0"
   ]
  },
  {
   "cell_type": "code",
   "execution_count": 3,
   "id": "c61464c1",
   "metadata": {},
   "outputs": [],
   "source": [
    "def train_perceptron(X, y, learning_rate=0.1, epochs=10):\n",
    "    num_features = X.shape[1]  \n",
    "    weights = np.zeros(num_features + 1) \n",
    "    print(\"Initial Weights:\", weights)\n",
    "\n",
    "    for epoch in range(epochs):\n",
    "        total_error = 0  \n",
    "        for i in range(len(X)):\n",
    "            x_with_bias = np.insert(X[i], 0, 1) \n",
    "            weighted_sum = np.dot(weights, x_with_bias) \n",
    "            y_pred = step_function(weighted_sum) \n",
    "            error = y[i] - y_pred \n",
    "            total_error += abs(error)  \n",
    "\n",
    "            weights += learning_rate * error * x_with_bias\n",
    "\n",
    "        print(f\"Epoch {epoch+1}: Weights = {weights}, Total Error = {total_error}\")\n",
    "\n",
    "        if total_error == 0:\n",
    "            break  \n",
    "\n",
    "    return weights  "
   ]
  },
  {
   "cell_type": "code",
   "execution_count": 4,
   "id": "cb4d329d",
   "metadata": {},
   "outputs": [],
   "source": [
    "def predict(X, weights):\n",
    "    predictions = []\n",
    "    for i in range(len(X)):\n",
    "        x_with_bias = np.insert(X[i], 0, 1) \n",
    "        weighted_sum = np.dot(weights, x_with_bias)  \n",
    "        y_pred = step_function(weighted_sum)  \n",
    "        predictions.append(y_pred)\n",
    "    return predictions"
   ]
  },
  {
   "cell_type": "code",
   "execution_count": 5,
   "id": "741370d4",
   "metadata": {},
   "outputs": [],
   "source": [
    "X = np.array([\n",
    "    [0, 0, 0],\n",
    "    [0, 0, 1], \n",
    "    [0, 1, 0],\n",
    "    [0, 1, 1],\n",
    "    [1, 0, 0],\n",
    "    [1, 0, 1],\n",
    "    [1, 1, 0],\n",
    "    [1, 1, 1] \n",
    "])\n",
    "y = np.array([0, 1, 1, 1, 1, 1, 1, 1]) "
   ]
  },
  {
   "cell_type": "code",
   "execution_count": 6,
   "id": "b7fc8357",
   "metadata": {},
   "outputs": [
    {
     "name": "stdout",
     "output_type": "stream",
     "text": [
      "Initial Weights: [0. 0. 0. 0.]\n",
      "Epoch 1: Weights = [0.  0.  0.  0.1], Total Error = 2\n",
      "Epoch 2: Weights = [0.  0.  0.1 0.1], Total Error = 2\n",
      "Epoch 3: Weights = [0.  0.1 0.1 0.1], Total Error = 2\n",
      "Epoch 4: Weights = [-0.1  0.1  0.1  0.1], Total Error = 1\n",
      "Epoch 5: Weights = [-0.1  0.1  0.1  0.1], Total Error = 0\n",
      "\n",
      "Final Predictions:\n",
      "Input: [0 0 0], Predicted: 0, Actual: 0\n",
      "Input: [0 0 1], Predicted: 1, Actual: 1\n",
      "Input: [0 1 0], Predicted: 1, Actual: 1\n",
      "Input: [0 1 1], Predicted: 1, Actual: 1\n",
      "Input: [1 0 0], Predicted: 1, Actual: 1\n",
      "Input: [1 0 1], Predicted: 1, Actual: 1\n",
      "Input: [1 1 0], Predicted: 1, Actual: 1\n",
      "Input: [1 1 1], Predicted: 1, Actual: 1\n"
     ]
    }
   ],
   "source": [
    "weights = train_perceptron(X, y)\n",
    "\n",
    "predictions = predict(X, weights)\n",
    "print(\"\\nFinal Predictions:\")\n",
    "for i in range(len(X)):\n",
    "    print(f\"Input: {X[i]}, Predicted: {predictions[i]}, Actual: {y[i]}\")"
   ]
  },
  {
   "cell_type": "code",
   "execution_count": null,
   "id": "858a034c",
   "metadata": {},
   "outputs": [],
   "source": []
  }
 ],
 "metadata": {
  "kernelspec": {
   "display_name": "Python 3 (ipykernel)",
   "language": "python",
   "name": "python3"
  },
  "language_info": {
   "codemirror_mode": {
    "name": "ipython",
    "version": 3
   },
   "file_extension": ".py",
   "mimetype": "text/x-python",
   "name": "python",
   "nbconvert_exporter": "python",
   "pygments_lexer": "ipython3",
   "version": "3.9.13"
  }
 },
 "nbformat": 4,
 "nbformat_minor": 5
}
